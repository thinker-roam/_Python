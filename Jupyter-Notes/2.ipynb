{
 "cells": [
  {
   "cell_type": "markdown",
   "metadata": {},
   "source": [
    "## 变量"
   ]
  },
  {
   "cell_type": "markdown",
   "metadata": {},
   "source": [
    "### 支持科学计数法 (字面量)"
   ]
  },
  {
   "cell_type": "code",
   "execution_count": 1,
   "metadata": {},
   "outputs": [
    {
     "name": "stdout",
     "output_type": "stream",
     "text": [
      "123.56\n"
     ]
    }
   ],
   "source": [
    "print(1.2356e2)"
   ]
  },
  {
   "cell_type": "markdown",
   "metadata": {},
   "source": [
    "### 类型判断"
   ]
  },
  {
   "cell_type": "code",
   "execution_count": null,
   "metadata": {},
   "outputs": [
    {
     "name": "stdout",
     "output_type": "stream",
     "text": [
      "int::type:: <class 'int'>\n",
      "float::type:: <class 'float'>\n",
      "string::type:: <class 'str'>\n",
      "boolean::type:: <class 'bool'>\n",
      "list::type:: <class 'list'>\n"
     ]
    }
   ],
   "source": [
    "a = 100\n",
    "b = 123.234\n",
    "c = 'hello world'\n",
    "d = True\n",
    "e = [1,2,3,4]\n",
    "print (f'int::type:: {type(a)}')\n",
    "print (f'float::type:: {type(b)}')\n",
    "print (f'string::type:: {type(c)}')\n",
    "print (f'boolean::type:: {type(d)}')\n",
    "# print (f'list::type:: {type(e)}')\n"
   ]
  },
  {
   "cell_type": "markdown",
   "metadata": {},
   "source": [
    "## 强制类型转换"
   ]
  },
  {
   "cell_type": "markdown",
   "metadata": {},
   "source": [
    "### `int()`\n",
    "\n",
    "- 将基本类型( number(float)  / boolean  )转换成整数\n",
    "- 可以指定进制"
   ]
  },
  {
   "cell_type": "code",
   "execution_count": 3,
   "metadata": {},
   "outputs": [
    {
     "name": "stdout",
     "output_type": "stream",
     "text": [
      "======基本类型========\n",
      "float to int  123\n",
      "boolean to int  1\n",
      "======复杂类型========\n"
     ]
    }
   ],
   "source": [
    "int_num = 1234\n",
    "float_num = 123.123\n",
    "string_test = 'hello world'\n",
    "char_test = 'A'\n",
    "chr_num = 49\n",
    "ord_string = 'A'\n",
    "boolean = True\n",
    "\n",
    "list_test = [12,2,3,4,5]\n",
    "\n",
    "def test():\n",
    "    return 0\n",
    "\n",
    "\n",
    "print('======基本类型========')\n",
    "print(f\"float to int  {int(float_num)}\")\n",
    "# print(f\"char to int  {int(char_test)}\")  # 无法转换 报错\n",
    "# print(f\"string to int  {int(string_)}\") # 无法转换 报错\n",
    "print(f\"boolean to int  {int(boolean)}\")\n",
    "print('======复杂类型========')\n",
    "# print(f\"list to int  {int(list_test)}\") # 无法转换 报错\n",
    "# print(f\"function to int  {int(test)}\") # 无法转换 报错\n"
   ]
  },
  {
   "cell_type": "markdown",
   "metadata": {},
   "source": [
    "### `float()` \n",
    "\n",
    " - 将基本类型( number(int)  / boolean  )转换成浮点数\n"
   ]
  },
  {
   "cell_type": "code",
   "execution_count": 19,
   "metadata": {},
   "outputs": [
    {
     "name": "stdout",
     "output_type": "stream",
     "text": [
      "======基本类型========\n",
      "int to float  1234.0\n",
      "boolean to float  1.0\n",
      "======复杂类型========\n"
     ]
    }
   ],
   "source": [
    "int_num = 1234\n",
    "string_test = 'hello world'\n",
    "char_test = 'A'\n",
    "chr_num = 49\n",
    "ord_string = 'A'\n",
    "boolean = True\n",
    "\n",
    "list_test = [12,2,3,4,5]\n",
    "\n",
    "def test():\n",
    "    return 0\n",
    "\n",
    "\n",
    "print('======基本类型========')\n",
    "print(f\"int to float  {float(int_num)}\")\n",
    "# print(f\"char to float  {float(char_test)}\")  # 无法转换 报错\n",
    "# print(f\"string to float  {float(string_)}\") # 无法转换 报错\n",
    "print(f\"boolean to float  {float(boolean)}\")\n",
    "print('======复杂类型========')\n",
    "# print(f\"list to float  {float(list_test)}\") # 无法转换 报错\n",
    "# print(f\"function to float  {float(test)}\") # 无法转换 报错"
   ]
  },
  {
   "cell_type": "markdown",
   "metadata": {},
   "source": [
    "###  `str()`\n",
    "\n",
    "- 将指定的对象（基本类型 + 复杂类型） 转换为 字符串形式"
   ]
  },
  {
   "cell_type": "code",
   "execution_count": 1,
   "metadata": {},
   "outputs": [
    {
     "name": "stdout",
     "output_type": "stream",
     "text": [
      "======基本类型========\n",
      "int to str  1234\n",
      "float to str  1231.24\n",
      "boolean to str  True\n",
      "======复杂类型========\n",
      "list to str  [12, 2, 3, 4, 5]\n",
      "function to str  <function test at 0x0000029897E9BF60>\n"
     ]
    }
   ],
   "source": [
    "int_num = 1234\n",
    "float_num = 1231.24\n",
    "boolean = True\n",
    "\n",
    "list_test = [12,2,3,4,5]\n",
    "\n",
    "def test():\n",
    "    return 0\n",
    "\n",
    "\n",
    "print('======基本类型========')\n",
    "print(f\"int to str  {str(int_num)}\")\n",
    "print(f\"float to str  {str(float_num)}\")\n",
    "print(f\"boolean to str  {str(boolean)}\")\n",
    "print('======复杂类型========')\n",
    "print(f\"list to str  {str(list_test)}\")  \n",
    "print(f\"function to str  {str(test)}\")  "
   ]
  },
  {
   "cell_type": "markdown",
   "metadata": {},
   "source": [
    "### `chr()`\n",
    "\n",
    ">  将整数（字符编码） 转换成对应的（一个字符的）字符串"
   ]
  },
  {
   "cell_type": "code",
   "execution_count": null,
   "metadata": {},
   "outputs": [
    {
     "name": "stdout",
     "output_type": "stream",
     "text": [
      " code num to string ::  A\n"
     ]
    }
   ],
   "source": [
    "chr_num = 65\n",
    "\n",
    "\n",
    "print(f\" code num to string ::  {chr(chr_num)}\") # A"
   ]
  },
  {
   "cell_type": "markdown",
   "metadata": {},
   "source": [
    "### `ord()`\n",
    "> 将字符 转换为 整数（字符编码）"
   ]
  },
  {
   "cell_type": "code",
   "execution_count": 12,
   "metadata": {},
   "outputs": [
    {
     "name": "stdout",
     "output_type": "stream",
     "text": [
      "char to char code ::  104\n"
     ]
    }
   ],
   "source": [
    "char_ =  'h'\n",
    "\n",
    "print(f'char to char code ::  {ord(char_)}')"
   ]
  },
  {
   "cell_type": "markdown",
   "metadata": {},
   "source": [
    "## 运算符"
   ]
  },
  {
   "cell_type": "markdown",
   "metadata": {},
   "source": [
    "| 运算符                                                       | 描述                           |\n",
    "| ------------------------------------------------------------ | ------------------------------ |\n",
    "| `[]`、`[:]`                                                 | 索引、切片                  |\n",
    "| `**`                                                         | 幂                             |\n",
    "| `~`、`+`、`-`                                              | 按位取反、正号、负号         |\n",
    "| `*`、`/`、`%`、`//`                                       | 乘、除、模、整除            |\n",
    "| `+`、`-`                                                    | 加、减                        |\n",
    "| `>>`、`<<`                                                  | 右移、左移                    |\n",
    "| `&`                                                          | 按位与                         |\n",
    "| `^`、`\\|`                                                   | 按位异或、按位或              |\n",
    "| `<=`、`<`、`>`、`>=`                                      | 小于等于、小于、大于、大于等于 |\n",
    "| `==`、`!=`                                                   | 等于、不等于                  |\n",
    "| `is`、`is not`                                               | 身份运算符                     |\n",
    "| `in`、`not in`                                                | 成员运算符                     |\n",
    "| `not`、`or`、`and`                                             | 逻辑运算符                     |\n",
    "| `=`、`+=`、`-=`、`*=`、`/=`、`%=`、`//=`、`**=`、`&=`、`\\|=`、`^=`、`>>=`、`<<=` | 赋值运算符             |"
   ]
  },
  {
   "cell_type": "markdown",
   "metadata": {},
   "source": [
    "### 算数运算符"
   ]
  },
  {
   "cell_type": "code",
   "execution_count": 4,
   "metadata": {},
   "outputs": [
    {
     "name": "stdout",
     "output_type": "stream",
     "text": [
      "26.75\n",
      "26\n",
      "4\n"
     ]
    }
   ],
   "source": [
    "# 除法\n",
    "print(321 / 12) \n",
    "# 整除\n",
    "print(321 // 12) \n",
    "\n",
    "# 乘方\n",
    "print( 2 ** 2)"
   ]
  },
  {
   "cell_type": "markdown",
   "metadata": {},
   "source": [
    "#### 浮点数——保留小数点位数"
   ]
  },
  {
   "cell_type": "code",
   "execution_count": 8,
   "metadata": {},
   "outputs": [
    {
     "name": "stdout",
     "output_type": "stream",
     "text": [
      "1.1\n",
      "1.1\n"
     ]
    }
   ],
   "source": [
    "float_num = 1.123231231\n",
    "# print(float_num:.1f}) # 语法错误\n",
    "print(f'{float_num:.1f}')\n",
    "print(float(f'{float_num:.1f}'))"
   ]
  },
  {
   "cell_type": "markdown",
   "metadata": {},
   "source": [
    "### 逻辑运算符"
   ]
  },
  {
   "cell_type": "markdown",
   "metadata": {},
   "source": [
    "#### and"
   ]
  },
  {
   "cell_type": "code",
   "execution_count": 5,
   "metadata": {},
   "outputs": [
    {
     "name": "stdout",
     "output_type": "stream",
     "text": [
      "False\n",
      "False\n"
     ]
    }
   ],
   "source": [
    "flag_1 = True\n",
    "flag_2 = False\n",
    "\n",
    "print( flag_1 and flag_2)\n",
    "print( flag_2 and flag_1)"
   ]
  },
  {
   "cell_type": "markdown",
   "metadata": {},
   "source": [
    "#### or"
   ]
  },
  {
   "cell_type": "code",
   "execution_count": 2,
   "metadata": {},
   "outputs": [
    {
     "name": "stdout",
     "output_type": "stream",
     "text": [
      "True\n",
      "True\n"
     ]
    }
   ],
   "source": [
    "flag_true = True\n",
    "flag_false = False \n",
    "\n",
    "print(flag_true or flag_false)\n",
    "print(flag_false or flag_true)"
   ]
  },
  {
   "cell_type": "markdown",
   "metadata": {},
   "source": [
    "#### eg: 华氏温度 转 摄氏温度\n",
    "\n",
    "$\\small{C = (F - 32) / 1.8}$ "
   ]
  },
  {
   "cell_type": "code",
   "execution_count": 5,
   "metadata": {},
   "outputs": [
    {
     "name": "stdout",
     "output_type": "stream",
     "text": [
      "19.444444444444443\n",
      "67.0华氏度  =  19.444444444444443摄氏度\n",
      "67.0华氏度  =  19.4摄氏度\n"
     ]
    }
   ],
   "source": [
    "f_num = float(input('请输入华氏温度'))\n",
    "\n",
    "c_num = (f_num - 32) / 1.8\n",
    "\n",
    "print(c_num)\n",
    "\n",
    "print(f'{f_num}华氏度  =  {c_num}摄氏度')\n",
    "\n",
    "\n",
    "print(f'{f_num:.1f}华氏度  =  {c_num:.1f}摄氏度')"
   ]
  },
  {
   "cell_type": "markdown",
   "metadata": {},
   "source": [
    "#### eg: 计算圆的周长和面积\n",
    "\n",
    "> **要求**：输入一个圆的半径（$\\small{r}$），计算出它的周长（ $\\small{2 \\pi r}$ ）和面积（ $\\small{\\pi r^{2}}$ ）。"
   ]
  },
  {
   "cell_type": "code",
   "execution_count": null,
   "metadata": {},
   "outputs": [
    {
     "name": "stdout",
     "output_type": "stream",
     "text": [
      "周长：772.8\n",
      "面积：47529.155256\n"
     ]
    }
   ],
   "source": [
    "import math\n",
    "\n",
    "radius = float(input('请输入 ⚪ 的半径'))\n",
    "\n",
    "perimeter  = 2 * math.pi * radius\n",
    "\n",
    "area = math.pi * (radius ** 2)\n",
    "\n",
    "print(f'周长：{perimeter:.1f}')\n",
    "print(f'面积：{area:.1f}')"
   ]
  },
  {
   "cell_type": "markdown",
   "metadata": {},
   "source": [
    "## 分支运算"
   ]
  },
  {
   "cell_type": "markdown",
   "metadata": {},
   "source": [
    "### if elif else"
   ]
  },
  {
   "cell_type": "code",
   "execution_count": 2,
   "metadata": {},
   "outputs": [
    {
     "name": "stdout",
     "output_type": "stream",
     "text": [
      "状态码描述:: Not Found\n"
     ]
    }
   ],
   "source": [
    "status_code = int(input('响应状态码'))\n",
    "\n",
    "if status_code == 400:\n",
    "    description = 'Bad Request'\n",
    "elif status_code == 401:\n",
    "    description = 'Unauthorized'\n",
    "elif status_code == 403:\n",
    "    description = 'Forbidden'\n",
    "elif status_code == 404:\n",
    "    description = 'Not Found'\n",
    "elif status_code == 405:\n",
    "    description = 'Method Not Allowed'\n",
    "elif status_code == 418:\n",
    "    description = 'I am  a teapot'\n",
    "elif status_code == 429:\n",
    "    description = 'Too many requests'\n",
    "else:\n",
    "    description = 'Unknown status code'\n",
    "    \n",
    "print(f'状态码描述:: {description}')"
   ]
  },
  {
   "cell_type": "markdown",
   "metadata": {},
   "source": [
    "### match case"
   ]
  },
  {
   "cell_type": "code",
   "execution_count": 9,
   "metadata": {},
   "outputs": [
    {
     "name": "stdout",
     "output_type": "stream",
     "text": [
      "状态码描述：： Unknown status code\n"
     ]
    }
   ],
   "source": [
    "status_code = int(input('响应状态码'))\n",
    "match status_code:\n",
    "        case 400:\n",
    "            description = 'Bad Request'\n",
    "        case 401:\n",
    "            description = 'Unauthorized'\n",
    "        case 403:\n",
    "            description = 'Forbidden'\n",
    "        case 405:\n",
    "            description = 'Method Not Allowed'\n",
    "        case 418:\n",
    "            description = 'I am teapot'\n",
    "        case 429:\n",
    "            description = 'Too many requests'\n",
    "        case _: \n",
    "            description = 'Unknown status code'\n",
    "print(f'状态码描述：： {description}')            "
   ]
  },
  {
   "cell_type": "markdown",
   "metadata": {},
   "source": [
    "#### 合并模式"
   ]
  },
  {
   "cell_type": "code",
   "execution_count": 12,
   "metadata": {},
   "outputs": [
    {
     "name": "stdout",
     "output_type": "stream",
     "text": [
      "状态码描述：： Not Allowed\n"
     ]
    }
   ],
   "source": [
    "status_code = int(input('响应状态码'))\n",
    "\n",
    "match status_code:\n",
    "    case 400 | 405: description = 'Invlid Request'\n",
    "    case 401 | 403 | 404 : description = 'Not Allowed'\n",
    "    case 418: description = 'I am teapot'\n",
    "    case 429: description = 'Too many requests'\n",
    "    case _:   description = 'Unknown status code'\n",
    "print(f'状态码描述：： {description}') "
   ]
  },
  {
   "cell_type": "markdown",
   "metadata": {},
   "source": [
    "## 循环"
   ]
  },
  {
   "cell_type": "markdown",
   "metadata": {},
   "source": [
    "### sleep 函数\n",
    "\n",
    "- time 模块的 sleep 函数 可以实现 程序休眠\n",
    "  - 参数 \n",
    "    - 休眠的秒数\n",
    "    - 类型 int/float\n",
    "    - `0.05` 50毫秒 "
   ]
  },
  {
   "cell_type": "code",
   "execution_count": 1,
   "metadata": {},
   "outputs": [
    {
     "name": "stdout",
     "output_type": "stream",
     "text": [
      "hello world\n"
     ]
    }
   ],
   "source": [
    "import time \n",
    "\n",
    "print ('hello world')\n",
    "\n",
    "time.sleep(1)"
   ]
  },
  {
   "cell_type": "markdown",
   "metadata": {},
   "source": [
    "### `range` 生成指定范围的随机数\n",
    "\n",
    "- `range(101)`\n",
    "  - 生成 0 - 100 范围的整数 ， 取不到 101\n",
    "- `range(1, 101)`\n",
    "  - 生成 1 - 100 范围的整数 ， 左闭右开 `[1,101)` ，取到 1 ，取不到 101\n",
    "- `range(1, 101, 2)`\n",
    "  - 生成 1 - 100 范围的奇数 , 步长（跨度）为 2 ，即每次递增的值 ， 101 取不到\n",
    "- `range(100, 0, -2)`\n",
    "  - 生成 100 - 1 范围的偶数 ， 步长（跨度）为 2 ， 即每次递减的值 ， 0 取不到"
   ]
  },
  {
   "cell_type": "markdown",
   "metadata": {},
   "source": [
    "### for-in"
   ]
  },
  {
   "cell_type": "markdown",
   "metadata": {},
   "source": [
    "#### eg: 每隔一秒输出 1 次\"hello world\""
   ]
  },
  {
   "cell_type": "code",
   "execution_count": null,
   "metadata": {},
   "outputs": [],
   "source": [
    "\"\"\"\n",
    "每隔 1 秒输出 1 次 \"hello world\"\n",
    "\"\"\"\n",
    "\n",
    "import time\n",
    "\n",
    "for i in range(3600):\n",
    "    print('hello world')\n",
    "    time.sleep(1)"
   ]
  },
  {
   "cell_type": "markdown",
   "metadata": {},
   "source": [
    "#### 从 1 到 100 的偶数求和"
   ]
  },
  {
   "cell_type": "markdown",
   "metadata": {},
   "source": [
    "##### 使用步长"
   ]
  },
  {
   "cell_type": "code",
   "execution_count": 24,
   "metadata": {},
   "outputs": [
    {
     "name": "stdout",
     "output_type": "stream",
     "text": [
      "2550\n"
     ]
    }
   ],
   "source": [
    "total = 0\n",
    "\n",
    "for i in range(2,101 , 2):\n",
    "    total += i\n",
    "print(total)"
   ]
  },
  {
   "cell_type": "markdown",
   "metadata": {},
   "source": [
    "##### 使用 if 判断 取余"
   ]
  },
  {
   "cell_type": "code",
   "execution_count": 27,
   "metadata": {},
   "outputs": [
    {
     "name": "stdout",
     "output_type": "stream",
     "text": [
      "2550\n"
     ]
    }
   ],
   "source": [
    "total = 0\n",
    "\n",
    "for i in range(1,101):\n",
    "    if i % 2 == 0:\n",
    "        total += i\n",
    "print(total)"
   ]
  },
  {
   "cell_type": "markdown",
   "metadata": {},
   "source": [
    "##### 使用内置 sum 函数 （循环都省了）"
   ]
  },
  {
   "cell_type": "code",
   "execution_count": 26,
   "metadata": {},
   "outputs": [
    {
     "name": "stdout",
     "output_type": "stream",
     "text": [
      "2550\n"
     ]
    }
   ],
   "source": [
    "print(sum(range(2 , 101 , 2)))"
   ]
  },
  {
   "cell_type": "markdown",
   "metadata": {},
   "source": [
    "### while"
   ]
  },
  {
   "cell_type": "markdown",
   "metadata": {},
   "source": [
    "#### 从 1 到 100 的偶数求和"
   ]
  },
  {
   "cell_type": "code",
   "execution_count": 31,
   "metadata": {},
   "outputs": [
    {
     "name": "stdout",
     "output_type": "stream",
     "text": [
      "2550\n"
     ]
    }
   ],
   "source": [
    "\n",
    "total = 0\n",
    "i = 1\n",
    "while i <= 100:\n",
    "    if i % 2 == 0:\n",
    "        total += i\n",
    "    i += 1\n",
    "print(total)"
   ]
  },
  {
   "cell_type": "code",
   "execution_count": 33,
   "metadata": {},
   "outputs": [
    {
     "name": "stdout",
     "output_type": "stream",
     "text": [
      "2550\n"
     ]
    }
   ],
   "source": [
    "total = 0\n",
    "i = 2\n",
    "while i <= 100 :\n",
    "    total += i\n",
    "    i += 2\n",
    "print(total)"
   ]
  },
  {
   "cell_type": "markdown",
   "metadata": {},
   "source": [
    "### eg: 100以内的素数\n",
    "> 说明：素数指的是只能被 1 和自身整除的正整数（不包括 1）"
   ]
  },
  {
   "cell_type": "code",
   "execution_count": null,
   "metadata": {},
   "outputs": [],
   "source": [
    "\n",
    "for num in range(2,100):\n",
    "     is_prime = True\n",
    "     for i in range(2,int(num ** 0.5)+1):\n",
    "         if num * i == 0:\n",
    "             is_prime = False\n",
    "             break\n",
    "     if is_prime :\n",
    "        print(num)"
   ]
  },
  {
   "cell_type": "markdown",
   "metadata": {},
   "source": [
    "### eg: 斐波那契数列\n",
    "> 数列的前两个数都是 1，从第三个数开始，每个数都是它前面两个数的和。按照这个规律，斐波那契数列的前 10 个数是：1, 1, 2, 3, 5, 8, 13, 21, 34, 55。"
   ]
  },
  {
   "cell_type": "code",
   "execution_count": null,
   "metadata": {},
   "outputs": [],
   "source": [
    "\"\"\"\n",
    "输出前 20 个数\n",
    "\"\"\"\n",
    "a,b = 0 , 1\n",
    "for _ in range(20):\n",
    "    a,b = b , a + b\n",
    "    print (a)"
   ]
  },
  {
   "cell_type": "markdown",
   "metadata": {},
   "source": [
    "### eg: 水仙花数\n",
    "> 找出 100 到 999 范围内的所有水仙花数。\n",
    "\n",
    "> 其各位数字的 N 次方和刚好等于该数本身\n",
    "\n",
    "> 例如： \n",
    "\n",
    "> $\\small{153 = 1^{3} + 5^{3} + 3^{3}}$ ，所以 153 是一个水仙花数；\n",
    "\n",
    ">  $\\small{1634 = 1^{4} + 6^{4} + 3^{4} + 4^{4}}$  ，所以 1634 也是一个水仙花数。"
   ]
  },
  {
   "cell_type": "code",
   "execution_count": 3,
   "metadata": {},
   "outputs": [
    {
     "name": "stdout",
     "output_type": "stream",
     "text": [
      "153\n",
      "370\n",
      "371\n",
      "407\n"
     ]
    }
   ],
   "source": [
    "for num in range(100,1000):\n",
    "    low = num % 10\n",
    "    mid = num // 10 % 10\n",
    "    high = num // 100\n",
    "    if (num == low ** 3 + mid ** 3 + high ** 3):\n",
    "        print(num)"
   ]
  },
  {
   "cell_type": "markdown",
   "metadata": {},
   "source": [
    "## 列表"
   ]
  },
  {
   "cell_type": "markdown",
   "metadata": {},
   "source": [
    "### 创建"
   ]
  },
  {
   "cell_type": "markdown",
   "metadata": {},
   "source": [
    "#### `[]` 字面量创建"
   ]
  },
  {
   "cell_type": "code",
   "execution_count": 4,
   "metadata": {},
   "outputs": [
    {
     "name": "stdout",
     "output_type": "stream",
     "text": [
      "[True, 12.3, <function test_func at 0x0000020A905EC400>, 'string', [1, 2, 3, 4]]\n"
     ]
    }
   ],
   "source": [
    "def test_func():\n",
    "    return 0\n",
    "items_1 = [1,2,3,4]\n",
    "items = [True , 12.3 , test_func , 'string', items_1]\n",
    "\n",
    "print(items)"
   ]
  },
  {
   "cell_type": "markdown",
   "metadata": {},
   "source": [
    "#### 构造器创建"
   ]
  },
  {
   "cell_type": "code",
   "execution_count": 6,
   "metadata": {},
   "outputs": [
    {
     "name": "stdout",
     "output_type": "stream",
     "text": [
      "[1, 2, 3, 4, 5]\n",
      "['h', 'e', 'l', 'l', 'o', ' ', 'w', 'o', 'r', 'l', 'd']\n",
      "[1, 2, 3, 4, 5, 6, 7, 8, 9, 10]\n"
     ]
    }
   ],
   "source": [
    "items_1 = list([1,2,3,4,5])\n",
    "items_2 = list('hello world')\n",
    "items_3 = list(range(1,11))\n",
    "print(items_1)\n",
    "print(items_2)\n",
    "print(items_3)"
   ]
  },
  {
   "cell_type": "markdown",
   "metadata": {},
   "source": [
    "### 列表的运算"
   ]
  },
  {
   "cell_type": "markdown",
   "metadata": {},
   "source": [
    "##### `+` 拼接"
   ]
  },
  {
   "cell_type": "code",
   "execution_count": 13,
   "metadata": {},
   "outputs": [
    {
     "name": "stdout",
     "output_type": "stream",
     "text": [
      "[35, 12, 99, 23, 45, 58, 29]\n",
      "[35, 12, 99, 23, 45, 58, 29, 'Python', 'Java', 'JavaScript']\n",
      "[35, 12, 99, 23, 45, 58, 29]\n"
     ]
    }
   ],
   "source": [
    "items_5 = [35, 12, 99, 23]\n",
    "items_6 = [45, 58, 29]\n",
    "items_7 = ['Python', 'Java', 'JavaScript']\n",
    "print(items_5 + items_6)\n",
    "print(items_5 + items_6 + items_7)\n",
    "\n",
    "items_5 += items_6 \n",
    "\n",
    "print(items_5)"
   ]
  },
  {
   "cell_type": "markdown",
   "metadata": {},
   "source": [
    "##### `*` 重复运算"
   ]
  },
  {
   "cell_type": "code",
   "execution_count": null,
   "metadata": {},
   "outputs": [
    {
     "name": "stdout",
     "output_type": "stream",
     "text": [
      "1315\n"
     ]
    }
   ],
   "source": [
    "items_8 = [35, 12, 99]\n",
    "\n",
    "print(items_8 * 3)\n"
   ]
  },
  {
   "cell_type": "markdown",
   "metadata": {},
   "source": [
    "##### `in` `not in` 判断元素是否在 列表中 (返回 boolean)"
   ]
  },
  {
   "cell_type": "code",
   "execution_count": 15,
   "metadata": {},
   "outputs": [
    {
     "name": "stdout",
     "output_type": "stream",
     "text": [
      "False\n",
      "True\n"
     ]
    }
   ],
   "source": [
    "items_5 = [35, 12, 99, 23]\n",
    "items_6 = [45, 58, 29]\n",
    "\n",
    "print(1 in items_5)\n",
    "\n",
    "print(2 not in items_6)"
   ]
  },
  {
   "cell_type": "markdown",
   "metadata": {},
   "source": [
    "### `items[0]` 元素访问 与 元素赋值\n",
    "\n",
    "- `items[0]` 第一个元素\n",
    "- `items[-1]` 倒数第一个元素"
   ]
  },
  {
   "cell_type": "code",
   "execution_count": null,
   "metadata": {},
   "outputs": [
    {
     "name": "stdout",
     "output_type": "stream",
     "text": [
      "apple\n",
      "pitaya\n",
      "watermelon\n",
      "watermelon\n",
      "1\n",
      "2\n"
     ]
    }
   ],
   "source": [
    "items8 = ['apple', 'waxberry', 'pitaya', 'peach', 'watermelon']\n",
    "\n",
    "# 访问\n",
    "print(items8[0])   # apple\n",
    "print(items8[2])   # pitaya\n",
    "print(items8[4])   # watermelon\n",
    "\n",
    "print(items8[-1])  # watermelon\n",
    "\n",
    "# 赋值\n",
    "items8[0] = 1\n",
    "items8[-1] = 2\n",
    "print(items8[0])    \n",
    "print(items8[-1])   "
   ]
  },
  {
   "cell_type": "markdown",
   "metadata": {},
   "source": [
    "### 切片"
   ]
  },
  {
   "cell_type": "markdown",
   "metadata": {},
   "source": [
    "#### 切片创建\n",
    "\n",
    "- `[start:end:stride]`\n",
    "- `[开始索引:结束索引:步长]` \n",
    "  - (结束索引：不包括最后一个元素))\n",
    "  - (步长：跳过的个数： 2 跳过两个 取第三个)"
   ]
  },
  {
   "cell_type": "code",
   "execution_count": 5,
   "metadata": {},
   "outputs": [
    {
     "name": "stdout",
     "output_type": "stream",
     "text": [
      "[2, 3]\n",
      "[2]\n",
      "[0, 2, 4]\n",
      "[2, 4]\n"
     ]
    }
   ],
   "source": [
    "items = [0,1,2,3,4,5]\n",
    "\n",
    "print(items[2:4:1])\n",
    "print(items[2:4:2]) # 4 超出范围 \n",
    "\n",
    "print(items[::2]) # 从起始到结尾 ， 步长 2\n",
    "\n",
    "print(items[2::2]) # 从 2 到结尾 步长 2 "
   ]
  },
  {
   "cell_type": "markdown",
   "metadata": {},
   "source": [
    "#### 切片赋值"
   ]
  },
  {
   "cell_type": "code",
   "execution_count": 6,
   "metadata": {},
   "outputs": [
    {
     "name": "stdout",
     "output_type": "stream",
     "text": [
      "[0, 1, 'x1', 3, 'x2', 5]\n"
     ]
    }
   ],
   "source": [
    "items = [0,1,2,3,4,5]\n",
    "\n",
    "items[2::2] = ['x1','x2']\n",
    "\n",
    "print(items)"
   ]
  },
  {
   "cell_type": "markdown",
   "metadata": {},
   "source": [
    "### 元素遍历"
   ]
  },
  {
   "cell_type": "markdown",
   "metadata": {},
   "source": [
    "##### 取索引遍历"
   ]
  },
  {
   "cell_type": "code",
   "execution_count": 1,
   "metadata": {},
   "outputs": [
    {
     "name": "stdout",
     "output_type": "stream",
     "text": [
      "Python\n",
      "Java\n",
      "C++\n",
      "Kotlin\n"
     ]
    }
   ],
   "source": [
    "languages = ['Python', 'Java', 'C++', 'Kotlin']\n",
    "\n",
    "for index in range(len(languages)):\n",
    "    print(languages[index])"
   ]
  },
  {
   "cell_type": "markdown",
   "metadata": {},
   "source": [
    "##### 直接遍历"
   ]
  },
  {
   "cell_type": "code",
   "execution_count": 2,
   "metadata": {},
   "outputs": [
    {
     "name": "stdout",
     "output_type": "stream",
     "text": [
      "Python\n",
      "Java\n",
      "C++\n",
      "Kotlin\n"
     ]
    }
   ],
   "source": [
    "languages = ['Python', 'Java', 'C++', 'Kotlin']\n",
    "\n",
    "for lang in languages:\n",
    "    print(lang)"
   ]
  },
  {
   "cell_type": "markdown",
   "metadata": {},
   "source": [
    "### 列表 的 方法"
   ]
  },
  {
   "cell_type": "markdown",
   "metadata": {},
   "source": [
    "#### 添加元素\n",
    "\n",
    "> `list.append(new_item)`\n",
    "\n",
    "> `list.insert(index , new_item)` "
   ]
  },
  {
   "cell_type": "code",
   "execution_count": 4,
   "metadata": {},
   "outputs": [
    {
     "name": "stdout",
     "output_type": "stream",
     "text": [
      "['Python', 'Java', 'C++', 'Javascript']\n",
      "['Python', 'SQL', 'Java', 'C++', 'Javascript']\n",
      "['Python', 'SQL', 'Java', 'C++', '-1', 'Javascript']\n"
     ]
    }
   ],
   "source": [
    "languages = ['Python', 'Java', 'C++']\n",
    "\n",
    "# 末尾添加 \n",
    "languages.append('Javascript')\n",
    "print(languages)\n",
    "\n",
    "# 指定位置添加\n",
    "languages.insert(1,'SQL')\n",
    "print(languages)\n",
    "\n",
    "# 索引从末尾开始计算 元素会被添加到 倒数第二个\n",
    "languages.insert(-1 , '-1')\n",
    "print(languages)"
   ]
  },
  {
   "cell_type": "markdown",
   "metadata": {},
   "source": [
    "#### 删除元素\n",
    "\n",
    "> `.remove(item)` 删除第一个匹配元素\n",
    "\n",
    "> `.pop(index=0)` 删除并返回最后一个元素 , 对应底层字节码 `CALL_METHOD` 和 `POP_TOP`\n",
    "\n",
    "> `del list[index]` 删除指定索引的元素 , 对应底层字节码 `DELETE_SUBSCR`  性能比 `.pop()` 更优\n",
    "\n",
    "> 如果元素不存在 ，则报错：`ValueError` , 最好在删除前 判断一下是否存在"
   ]
  },
  {
   "cell_type": "code",
   "execution_count": null,
   "metadata": {},
   "outputs": [
    {
     "name": "stdout",
     "output_type": "stream",
     "text": [
      "['Python', 'SQL', 'C++', 'JavaScript']\n",
      "['SQL', 'Python', 'Java', 'C++', 'JavaScript']\n",
      "\n",
      "['Python', 'SQL', 'Java', 'C++']\n",
      "\n",
      "JavaScript\n",
      "['Python', 'Java', 'C++', 'JavaScript']\n",
      "\n",
      "['Python', 'Java', 'C++', 'JavaScript']\n"
     ]
    }
   ],
   "source": [
    "languages = [\"Python\", \"SQL\", \"Java\", \"C++\", \"JavaScript\"]\n",
    "\n",
    "# .remove()\n",
    "\n",
    "if \"Java\" in languages:\n",
    "    languages.remove(\"Java\")\n",
    "if \"Swift\" in languages:\n",
    "    languages.remove(\"Swift\")\n",
    "\n",
    "print(languages)\n",
    "\n",
    "\n",
    "languages = [\"Python\", \"SQL\", \"Python\", \"Java\", \"C++\", \"JavaScript\"]\n",
    "\n",
    "languages.remove(\"Python\")\n",
    "\n",
    "print(languages)\n",
    "\n",
    "print()\n",
    "\n",
    "\n",
    "languages = [\"Python\", \"SQL\", \"Java\", \"C++\", \"JavaScript\"]\n",
    "\n",
    "\n",
    "# .pop() 删除并返回最后一个元素\n",
    "\n",
    "del_item = languages.pop()\n",
    "\n",
    "print(languages)\n",
    "print()\n",
    "print(del_item)\n",
    "\n",
    "languages = [\"Python\", \"SQL\", \"Java\", \"C++\", \"JavaScript\"]\n",
    "\n",
    "# 删除 倒数第二个\n",
    "languages.pop(1)\n",
    "\n",
    "print(languages)\n",
    "\n",
    "print()\n",
    "\n",
    "# del 关键字\n",
    "languages = [\"Python\", \"SQL\", \"Java\", \"C++\", \"JavaScript\"]\n",
    "\n",
    "del languages[1]\n",
    "\n",
    "print(languages)"
   ]
  },
  {
   "cell_type": "markdown",
   "metadata": {},
   "source": [
    "#### 元素的位置\n",
    "\n",
    "> `.index(item)` \n",
    "\n",
    "> `.index(item,index)`"
   ]
  },
  {
   "cell_type": "markdown",
   "metadata": {},
   "source": []
  },
  {
   "cell_type": "code",
   "execution_count": 6,
   "metadata": {},
   "outputs": [
    {
     "name": "stdout",
     "output_type": "stream",
     "text": [
      "0\n",
      "5\n"
     ]
    }
   ],
   "source": [
    "items = ['Python', 'Java', 'Java', 'C++', 'Kotlin', 'Python']\n",
    "\n",
    "print(items.index('Python')) # 0\n",
    "\n",
    "# 从索引 1 开始查找\n",
    "print(items.index('Python',1)) # 5\n",
    "\n",
    "\n",
    "# print(items.index('Java',3)) # 报错 ValueError: 'Java' is not in list"
   ]
  },
  {
   "cell_type": "markdown",
   "metadata": {},
   "source": [
    "#### 元素的频次 `.count(item)` \n",
    "\n",
    "> `.count(item)` "
   ]
  },
  {
   "cell_type": "code",
   "execution_count": 8,
   "metadata": {},
   "outputs": [
    {
     "name": "stdout",
     "output_type": "stream",
     "text": [
      "2\n",
      "2\n"
     ]
    }
   ],
   "source": [
    "items = ['Python', 'Java', 'Java', 'C++', 'Kotlin', 'Python']\n",
    "\n",
    "print(items.count('Python'))\n",
    "print(items.count('Java'))"
   ]
  },
  {
   "cell_type": "markdown",
   "metadata": {},
   "source": [
    "#### 元素的排序 `.sort()`"
   ]
  },
  {
   "cell_type": "code",
   "execution_count": 9,
   "metadata": {},
   "outputs": [
    {
     "name": "stdout",
     "output_type": "stream",
     "text": [
      "['C++', 'Java', 'Kotlin', 'Python', 'Swift']\n"
     ]
    }
   ],
   "source": [
    "items = ['Python', 'Java', 'C++', 'Kotlin', 'Swift']\n",
    "\n",
    "items.sort()\n",
    "\n",
    "print(items)"
   ]
  },
  {
   "cell_type": "markdown",
   "metadata": {},
   "source": [
    "#### 元素的反转 `.reverse()`"
   ]
  },
  {
   "cell_type": "code",
   "execution_count": 10,
   "metadata": {},
   "outputs": [
    {
     "name": "stdout",
     "output_type": "stream",
     "text": [
      "['Swift', 'Kotlin', 'C++', 'Java', 'Python']\n"
     ]
    }
   ],
   "source": [
    "items = ['Python', 'Java', 'C++', 'Kotlin', 'Swift']\n",
    "\n",
    "\n",
    "items.reverse()\n",
    "\n",
    "print(items)"
   ]
  },
  {
   "cell_type": "markdown",
   "metadata": {},
   "source": [
    "### 列表生成式\n",
    "\n",
    "> 性能上优于 for-in  + append  \n",
    "\n",
    "> 因为解释器有针对的 字节码 优化 （LIST_APPEND 指令）\n",
    "\n",
    "> for (LOAD_METHOD 和 CALL_METHOD 指令)\n",
    "\n",
    "> 方法调用本身就是一个相对比较耗时的操作 "
   ]
  },
  {
   "cell_type": "markdown",
   "metadata": {},
   "source": [
    "#### 场景一： 创建一个 取值范围在 1 - 99 且能被 3 和 5 整除的 数字 构成的列表"
   ]
  },
  {
   "cell_type": "markdown",
   "metadata": {},
   "source": [
    "##### 原始写法"
   ]
  },
  {
   "cell_type": "code",
   "execution_count": 13,
   "metadata": {},
   "outputs": [
    {
     "name": "stdout",
     "output_type": "stream",
     "text": [
      "[3, 5, 6, 9, 10, 12, 15, 18, 20, 21, 24, 25, 27, 30, 33, 35, 36, 39, 40, 42, 45, 48, 50, 51, 54, 55, 57, 60, 63, 65, 66, 69, 70, 72, 75, 78, 80, 81, 84, 85, 87, 90, 93, 95, 96, 99]\n"
     ]
    }
   ],
   "source": [
    "items = []\n",
    "\n",
    "for i in range(1,100):\n",
    "    if i % 3 == 0 or i % 5 == 0:\n",
    "        items.append(i)\n",
    "        \n",
    "print(items)"
   ]
  },
  {
   "cell_type": "markdown",
   "metadata": {},
   "source": [
    "##### 生成式写法"
   ]
  },
  {
   "cell_type": "code",
   "execution_count": 12,
   "metadata": {},
   "outputs": [
    {
     "name": "stdout",
     "output_type": "stream",
     "text": [
      "[3, 5, 6, 9, 10, 12, 15, 18, 20, 21, 24, 25, 27, 30, 33, 35, 36, 39, 40, 42, 45, 48, 50, 51, 54, 55, 57, 60, 63, 65, 66, 69, 70, 72, 75, 78, 80, 81, 84, 85, 87, 90, 93, 95, 96, 99]\n"
     ]
    }
   ],
   "source": [
    "items = [i for i in range(1 ,100) if i % 3 == 0 or i % 5 == 0 ]\n",
    "\n",
    "print(items)"
   ]
  },
  {
   "cell_type": "markdown",
   "metadata": {},
   "source": [
    "#### 场景二： 有一个整数列表 nums1 , 创建一个新列表 nums2 , nums2 中的元素是 nums1中对应元素的平方 "
   ]
  },
  {
   "cell_type": "markdown",
   "metadata": {},
   "source": [
    "##### 原始写法"
   ]
  },
  {
   "cell_type": "code",
   "execution_count": null,
   "metadata": {},
   "outputs": [
    {
     "name": "stdout",
     "output_type": "stream",
     "text": [
      "[1, 4, 9, 16, 25, 36]\n"
     ]
    }
   ],
   "source": [
    "nums1 = [1,2,3,4,5,6]\n",
    "nums2 = []\n",
    "for item in nums1:\n",
    "    nums2.append(item ** 2)\n",
    "print(nums2)"
   ]
  },
  {
   "cell_type": "markdown",
   "metadata": {},
   "source": [
    "##### 生成式写法"
   ]
  },
  {
   "cell_type": "code",
   "execution_count": 3,
   "metadata": {},
   "outputs": [
    {
     "name": "stdout",
     "output_type": "stream",
     "text": [
      "[1, 4, 9, 16, 25, 36]\n"
     ]
    }
   ],
   "source": [
    "nums1 = [1,2,3,4,5,6]\n",
    "\n",
    "nums2 = [num ** 2 for num in nums1]\n",
    "\n",
    "print(nums2)"
   ]
  },
  {
   "cell_type": "markdown",
   "metadata": {},
   "source": [
    "#### 场景三： 有一个整数列表 nums1 ，创建一个新的列表 nums2 ，将 nums1 中 大于 50 的元素放入 nums2 中"
   ]
  },
  {
   "cell_type": "markdown",
   "metadata": {},
   "source": [
    "##### 原始写法"
   ]
  },
  {
   "cell_type": "code",
   "execution_count": 6,
   "metadata": {},
   "outputs": [
    {
     "name": "stdout",
     "output_type": "stream",
     "text": [
      "[97, 64, 55]\n"
     ]
    }
   ],
   "source": [
    "nums1 = [35, 12, 97, 64, 55]\n",
    "\n",
    "nums2 = []\n",
    "\n",
    "for item in nums1: \n",
    "    if item >= 50: \n",
    "        nums2.append(item)\n",
    "        \n",
    "print(nums2)"
   ]
  },
  {
   "cell_type": "markdown",
   "metadata": {},
   "source": [
    "##### 生成式写法"
   ]
  },
  {
   "cell_type": "code",
   "execution_count": 7,
   "metadata": {},
   "outputs": [
    {
     "name": "stdout",
     "output_type": "stream",
     "text": [
      "[97, 64, 55]\n"
     ]
    }
   ],
   "source": [
    "nums1 = [35, 12, 97, 64, 55]\n",
    "\n",
    "nums2 = [item for item in nums1 if item >= 50 ]\n",
    "\n",
    "print(nums2)"
   ]
  },
  {
   "cell_type": "markdown",
   "metadata": {},
   "source": [
    "### 嵌套列表"
   ]
  },
  {
   "cell_type": "code",
   "execution_count": null,
   "metadata": {},
   "outputs": [],
   "source": [
    "scores = [[95, 83, 92], [80, 75, 82], [92, 97, 90], [80, 78, 69], [65, 66, 89]]\n",
    "print(scores[0])\n",
    "print(scores[0][1])"
   ]
  },
  {
   "cell_type": "markdown",
   "metadata": {},
   "source": [
    "## 元组\n",
    "\n",
    "> 与列表不同的是，元组是不可变类型\n",
    "\n",
    "> 元组内的变量一旦定义，其中的元素不能再添加和删除/修改 \n",
    "\n",
    "> 注意：如果元组只有一个元素 需要末尾加 逗号 ，否则会识别为 改变运算优先级的圆括号 "
   ]
  },
  {
   "cell_type": "code",
   "execution_count": 12,
   "metadata": {},
   "outputs": [
    {
     "name": "stdout",
     "output_type": "stream",
     "text": [
      "(35, 12, 22)\n",
      "('xxx', 43, True, 'xxxxxx')\n",
      "35\n",
      "22\n",
      "22\n",
      "('xxx', 43)\n",
      "('xxx', 'xxxxxx')\n",
      "35\n",
      "12\n",
      "22\n",
      "True\n",
      "False\n",
      "(35, 12, 22, 'xxx', 43, True, 'xxxxxx')\n",
      "(35, 12, 22) ('xxx', 43, True, 'xxxxxx')\n",
      "False\n",
      "False\n",
      "False\n",
      "(11,)\n"
     ]
    }
   ],
   "source": [
    "# 字面量定义 三元组\n",
    "\n",
    "t1 = (35 , 12 , 22)\n",
    "\n",
    "t2 = ('xxx', 43 , True , 'xxxxxx')\n",
    "\n",
    "print(t1)\n",
    "\n",
    "print(t2)\n",
    "\n",
    "# 索引运算\n",
    "\n",
    "print(t1[0])\n",
    "\n",
    "print(t1[2])\n",
    "\n",
    "print(t1[-1])\n",
    "\n",
    "\n",
    "# 切片运算\n",
    "\n",
    "print(t2[:2])\n",
    "\n",
    "print(t2[::3])\n",
    "\n",
    "\n",
    "# 遍历\n",
    "\n",
    "for elem in t1:\n",
    "    print(elem)\n",
    "    \n",
    "    \n",
    "# 成员运算\n",
    "\n",
    "print(12 in t1)\n",
    "\n",
    "print('xxx' not in t2)\n",
    "\n",
    "# 拼接运算\n",
    "\n",
    "t3 = t1 + t2\n",
    "print (t3)\n",
    "print(t1 , t2)\n",
    "\n",
    "# 比较运算\n",
    "\n",
    "print(t1 == t3)\n",
    "\n",
    "print(t1 >= t3)\n",
    "\n",
    "print(t1 <= (35 , 11 , 22))\n",
    "\n",
    "print((11,))\n"
   ]
  },
  {
   "cell_type": "markdown",
   "metadata": {},
   "source": [
    "### 打包和解包操作\n",
    "\n",
    "> 多个逗号分隔的值 赋值给变量 会被打包成 元组类型\n",
    "\n",
    "> 元组 赋值给 多个逗号分隔的变量 会被解包成多个值 赋值给变量"
   ]
  },
  {
   "cell_type": "code",
   "execution_count": null,
   "metadata": {},
   "outputs": [
    {
     "name": "stdout",
     "output_type": "stream",
     "text": [
      "<class 'tuple'>\n",
      "(10, 11, 12)\n",
      "10 11 12\n"
     ]
    }
   ],
   "source": [
    "# 打包操作\n",
    "a = 10 , 11 , 12\n",
    "\n",
    "print(type(a))\n",
    "print(a)\n",
    "\n",
    "# 解包操作\n",
    "i,j,k = a\n",
    "\n",
    "print(i, j, k)"
   ]
  },
  {
   "cell_type": "markdown",
   "metadata": {},
   "source": [
    "### 星号表达式 解决变量少于元组元素个数 导致报错的 方法\n",
    "\n",
    "> 让一个变量接收多个值\n",
    "\n",
    "> 星号表达式接收的变量会变成 list 列表 "
   ]
  },
  {
   "cell_type": "code",
   "execution_count": null,
   "metadata": {},
   "outputs": [
    {
     "name": "stdout",
     "output_type": "stream",
     "text": [
      "1 10 [100, 1000]\n",
      "[1, 10] 100 1000\n",
      "[1, 10, 100] 1000\n",
      "1 [10, 100, 1000]\n",
      "1 10 100 [1000]\n",
      "1 10 100 1000\n"
     ]
    }
   ],
   "source": [
    "a = 1, 10, 100 , 1000\n",
    "\n",
    "i , j , *k = a\n",
    "\n",
    "print(i, j , k)\n",
    "\n",
    "*i , j , k = a\n",
    "\n",
    "print(i,j,k)\n",
    "\n",
    "*i , j = a\n",
    "\n",
    "print(i , j)\n",
    "\n",
    "i, *j = a\n",
    "\n",
    "print(i , j)\n",
    "\n",
    "i , j , k, *l = a\n",
    "\n",
    "print(i , j , k, l)\n",
    "\n",
    "\n",
    "i , j ,k ,l , *m = a\n",
    "\n",
    "print(i , j ,k ,l , m)"
   ]
  },
  {
   "cell_type": "markdown",
   "metadata": {},
   "source": [
    "### 解包语法对所有 序列都成立 （list tuple range 函数 字符串）"
   ]
  },
  {
   "cell_type": "code",
   "execution_count": 6,
   "metadata": {},
   "outputs": [
    {
     "name": "stdout",
     "output_type": "stream",
     "text": [
      "1 2 [3, 4, 5, 6, 7, 8, 9]\n",
      "1 10 100\n",
      "h ['e', 'l', 'l'] o\n"
     ]
    }
   ],
   "source": [
    "a, b , *c = range(1,10)\n",
    "print(a , b ,c)\n",
    "\n",
    "a , b, c  = [1,10,100]\n",
    "print(a , b ,c)\n",
    "\n",
    "a , *b , c = 'hello'\n",
    "\n",
    "print(a, b , c)"
   ]
  },
  {
   "cell_type": "markdown",
   "metadata": {},
   "source": [
    "### 交换变量的值 \n",
    "\n",
    "> 底层没有用到 解包 和 打包 语法\n",
    "\n",
    "> 实际是 `ROT_TWO` 和 `ROT_THREE` 字节码\n",
    "\n",
    "> 如果交换的变量多于三个变量的值 需要 用到 解包 和 打包 "
   ]
  },
  {
   "cell_type": "code",
   "execution_count": 4,
   "metadata": {},
   "outputs": [
    {
     "name": "stdout",
     "output_type": "stream",
     "text": [
      "2 1\n",
      "0 2 1\n"
     ]
    }
   ],
   "source": [
    "a = 1\n",
    "b = 2\n",
    "\n",
    "a , b = b , a \n",
    "print(a , b)\n",
    "\n",
    "a = 1\n",
    "b = 2\n",
    "c = 0\n",
    "\n",
    "\n",
    "a , b , c = c, b , a \n",
    "print( a , b , c)"
   ]
  },
  {
   "cell_type": "markdown",
   "metadata": {},
   "source": [
    "## 元组与列表的比较"
   ]
  },
  {
   "cell_type": "markdown",
   "metadata": {},
   "source": [
    "- 都是 容器类型数据 ， 即一个变量保存多个数据， 都是按一定顺序组织元素的有序容器\n",
    "- 都支持 拼接运算 成员运算 索引运算 和 切片运算\n",
    "- 推荐使用生成式 生成列表\n",
    "\n",
    "### 元组\n",
    "\n",
    "- 不可变类型\n",
    "- 适合多线程环境\n",
    "  - 降低了并发访问变量的同步化开销\n",
    "- 在创建时间上优于对应的可变类型\n",
    "- 无法操作元素\n",
    "\n",
    "### 列表\n",
    "\n",
    "- 可变类型\n",
    "- 可以操作元素 （添加 删除 修改 清空 反转）"
   ]
  },
  {
   "cell_type": "markdown",
   "metadata": {},
   "source": [
    "#### 使用 timeit 模块的 timeit 函数 来看 创建保存相同元素 的 元组与列表各自花费的时间\n",
    "\n",
    "number参数表示代码执行的次数\n",
    "\n",
    "分别创建了保存1到9的整数的列表和元组，每个操作执行10000000次，统计运行时间。"
   ]
  },
  {
   "cell_type": "code",
   "execution_count": 3,
   "metadata": {},
   "outputs": [
    {
     "name": "stdout",
     "output_type": "stream",
     "text": [
      "0.436 秒 -- 列表\n",
      "0.095 秒 -- 元组\n"
     ]
    }
   ],
   "source": [
    "import timeit\n",
    "\n",
    "print(\"%.3f 秒 -- 列表\" % timeit.timeit(\"[1 ,2,3, 4, 5, 6, 7, 8, 9]\", number=10000000))\n",
    "print(\"%.3f 秒 -- 元组\" % timeit.timeit(\"(1, 2, 3, 4, 5, 6, 7, 8, 9)\", number=10000000))"
   ]
  },
  {
   "cell_type": "markdown",
   "metadata": {},
   "source": [
    "### 元组与列表 类型相互转换"
   ]
  },
  {
   "cell_type": "code",
   "execution_count": 4,
   "metadata": {},
   "outputs": [
    {
     "name": "stdout",
     "output_type": "stream",
     "text": [
      "[1, 2, '四川', '瓜娃子']\n",
      "('apple', 'banana', 'orange')\n"
     ]
    }
   ],
   "source": [
    "infos = (1 ,2, '四川' , '瓜娃子')\n",
    "\n",
    "# 将 元组 转换为 列表\n",
    "print(list(infos))\n",
    "\n",
    "frts = ['apple', 'banana', 'orange']\n",
    "\n",
    "# 将 列表 转换为 元组 \n",
    "print(tuple(frts))"
   ]
  },
  {
   "cell_type": "markdown",
   "metadata": {},
   "source": [
    "## 字符串"
   ]
  },
  {
   "cell_type": "markdown",
   "metadata": {},
   "source": [
    "### 原始字符串\n"
   ]
  },
  {
   "cell_type": "code",
   "execution_count": null,
   "metadata": {},
   "outputs": [
    {
     "name": "stdout",
     "output_type": "stream",
     "text": [
      "\\it \\is \\time \\to \\read \\now\n"
     ]
    }
   ],
   "source": [
    "# s1 = '\\it \\is \\time \\to \\read \\now'\n",
    "s2 = r\"\\it \\is \\time \\to \\read \\now\"\n",
    "\n",
    "# print(s1) # 报错\n",
    "print(s2)"
   ]
  },
  {
   "cell_type": "markdown",
   "metadata": {},
   "source": [
    "### 字符的特殊表示\n",
    "\n",
    "\\141 和 \\x64 都代表小写字母 （8 进制 和 16 进制表示法）"
   ]
  },
  {
   "cell_type": "code",
   "execution_count": 7,
   "metadata": {},
   "outputs": [
    {
     "name": "stdout",
     "output_type": "stream",
     "text": [
      "abcabc\n",
      "骆昊\n"
     ]
    }
   ],
   "source": [
    "s1 = '\\141\\142\\143\\x61\\x62\\x63'\n",
    "s2 = '\\u9a86\\u660a'\n",
    "print(s1)\n",
    "print(s2)"
   ]
  },
  {
   "cell_type": "markdown",
   "metadata": {},
   "source": [
    "### 字符串运算"
   ]
  },
  {
   "cell_type": "markdown",
   "metadata": {},
   "source": [
    "#### 拼接"
   ]
  },
  {
   "cell_type": "code",
   "execution_count": null,
   "metadata": {},
   "outputs": [
    {
     "name": "stdout",
     "output_type": "stream",
     "text": [
      "hello ,world\n",
      "hello ,world!\n"
     ]
    }
   ],
   "source": [
    "s1 = \"hello \" + \",\" + \"world\"\n",
    "\n",
    "print(s1)\n",
    "\n",
    "s1 += \"!\"\n",
    "\n",
    "print(s1)"
   ]
  },
  {
   "cell_type": "markdown",
   "metadata": {},
   "source": [
    "#### 重复"
   ]
  },
  {
   "cell_type": "code",
   "execution_count": null,
   "metadata": {},
   "outputs": [
    {
     "name": "stdout",
     "output_type": "stream",
     "text": [
      "hello ,worldhello ,world\n"
     ]
    }
   ],
   "source": [
    "s1 = \"hello \" + \",\" + \"world\"\n",
    "\n",
    "s1 *= 2  \n",
    "\n",
    "print(s1)"
   ]
  },
  {
   "cell_type": "markdown",
   "metadata": {},
   "source": [
    "#### 比较运算\n",
    "\n",
    "比较的是 字符编码\n",
    "第一个字符 比较 比较不出来 换第二个 以此类推"
   ]
  },
  {
   "cell_type": "code",
   "execution_count": 9,
   "metadata": {},
   "outputs": [
    {
     "name": "stdout",
     "output_type": "stream",
     "text": [
      "False\n",
      "False\n",
      "False\n",
      "False\n"
     ]
    }
   ],
   "source": [
    "s1 = 'a whole new world'\n",
    "s2 = 'hello world'\n",
    "\n",
    "print(s1 == s2)\n",
    "print(s1 > s2) # 比较 字符编码 大小\n",
    "print(ord('A') > ord('B'))\n",
    "print(s1 == 'hello world')"
   ]
  },
  {
   "cell_type": "markdown",
   "metadata": {},
   "source": [
    "#### 获取字符编码 `ord()`\n",
    "\n",
    "- 注意：是单个字符 不是多个字符组成的字符串"
   ]
  },
  {
   "cell_type": "code",
   "execution_count": 10,
   "metadata": {},
   "outputs": [
    {
     "name": "stdout",
     "output_type": "stream",
     "text": [
      "65\n",
      "97\n",
      "29579\n",
      "22823\n",
      "38180\n"
     ]
    }
   ],
   "source": [
    "print(ord('A'))\n",
    "print(ord('a'))\n",
    "print(ord('王'))\n",
    "print(ord('大'))\n",
    "print(ord('锤'))\n"
   ]
  },
  {
   "cell_type": "markdown",
   "metadata": {},
   "source": [
    "#### 成员运算 （判断字符串是否包含另一个字符或字符串）\n",
    "\n",
    "- `in` \n",
    "- `not in`"
   ]
  },
  {
   "cell_type": "code",
   "execution_count": 11,
   "metadata": {},
   "outputs": [
    {
     "name": "stdout",
     "output_type": "stream",
     "text": [
      "True\n",
      "False\n",
      "False\n",
      "False\n"
     ]
    }
   ],
   "source": [
    "s1 = 'hello, world'\n",
    "s2 = 'goodbye, world'\n",
    "\n",
    "print('wo' in  s1)\n",
    "\n",
    "print(s1 in 'wo')\n",
    "\n",
    "print('wo' not in s2)\n",
    "\n",
    "print(s2 in s1)"
   ]
  },
  {
   "cell_type": "markdown",
   "metadata": {},
   "source": [
    "#### 获取字符串长度"
   ]
  },
  {
   "cell_type": "code",
   "execution_count": 12,
   "metadata": {},
   "outputs": [
    {
     "name": "stdout",
     "output_type": "stream",
     "text": [
      "12\n",
      "14\n"
     ]
    }
   ],
   "source": [
    "s = 'hello, world'\n",
    "\n",
    "print(len(s))\n",
    "\n",
    "print(len('what the fuck?'))"
   ]
  },
  {
   "cell_type": "markdown",
   "metadata": {},
   "source": [
    "#### 索引和切片"
   ]
  },
  {
   "cell_type": "code",
   "execution_count": 19,
   "metadata": {},
   "outputs": [
    {
     "name": "stdout",
     "output_type": "stream",
     "text": [
      "a a\n",
      "6 6\n",
      "c c\n",
      "3 2\n",
      "c12\n",
      "c12\n",
      "c123456\n",
      "ac246\n",
      "654321cba\n"
     ]
    }
   ],
   "source": [
    "s = 'abc123456'\n",
    "n = len(s)\n",
    "\n",
    "print(s[0], s[-n])\n",
    "print(s[n-1], s[-1])\n",
    "print(s[2] , s[-7])\n",
    "print(s[5] , s[4])\n",
    "\n",
    "print(s[2:5])\n",
    "print(s[-7:-4])\n",
    "\n",
    "print(s[2:])\n",
    "print(s[::2])\n",
    "print(s[::-1])"
   ]
  },
  {
   "cell_type": "markdown",
   "metadata": {},
   "source": [
    "#### 索引越界，会触发 `IndexError` 异常\n",
    "\n",
    "- 报错信息为：`string index out range` 字符串索引超出范围"
   ]
  },
  {
   "cell_type": "markdown",
   "metadata": {},
   "source": [
    "### 字符串遍历\n",
    "\n",
    "- 使用 `for-in` 有两种方式"
   ]
  },
  {
   "cell_type": "markdown",
   "metadata": {},
   "source": [
    "#### 方式一"
   ]
  },
  {
   "cell_type": "code",
   "execution_count": null,
   "metadata": {},
   "outputs": [],
   "source": [
    "s = \"hello\"\n",
    "\n",
    "for i in range(len(s)):\n",
    "    print(s[i])\n"
   ]
  },
  {
   "cell_type": "markdown",
   "metadata": {},
   "source": [
    "#### 方式二"
   ]
  },
  {
   "cell_type": "code",
   "execution_count": null,
   "metadata": {},
   "outputs": [
    {
     "name": "stdout",
     "output_type": "stream",
     "text": [
      "<class 'str'>\n",
      "<class 'str'>\n",
      "h\n",
      "e\n",
      "l\n",
      "l\n",
      "o\n"
     ]
    }
   ],
   "source": [
    "s = \"hello\"\n",
    "\n",
    "for elem in s:\n",
    "\n",
    "    print(elem)"
   ]
  },
  {
   "cell_type": "markdown",
   "metadata": {},
   "source": [
    "### 字符串操作方法"
   ]
  },
  {
   "cell_type": "markdown",
   "metadata": {},
   "source": [
    "#### 大写"
   ]
  },
  {
   "cell_type": "code",
   "execution_count": null,
   "metadata": {},
   "outputs": [
    {
     "name": "stdout",
     "output_type": "stream",
     "text": [
      "Hello, world!\n",
      "Hello, World!\n",
      "HELLO, WORLD!\n"
     ]
    }
   ],
   "source": [
    "s1 = 'hello, world!'\n",
    "# 首个单词 首字母大写\n",
    "print(s1.capitalize())\n",
    "# 所有单词 首字母大写\n",
    "print(s1.title())\n",
    "# 字符串全大写\n",
    "print(s1.upper())"
   ]
  },
  {
   "cell_type": "markdown",
   "metadata": {},
   "source": [
    "#### 小写"
   ]
  },
  {
   "cell_type": "code",
   "execution_count": 12,
   "metadata": {},
   "outputs": [
    {
     "name": "stdout",
     "output_type": "stream",
     "text": [
      "hello, world!\n"
     ]
    }
   ],
   "source": [
    "s1 = 'HELLO, WORLD!'\n",
    "\n",
    "print(s1.lower())"
   ]
  },
  {
   "cell_type": "markdown",
   "metadata": {},
   "source": []
  },
  {
   "cell_type": "code",
   "execution_count": null,
   "metadata": {},
   "outputs": [],
   "source": []
  }
 ],
 "metadata": {
  "kernelspec": {
   "display_name": "base",
   "language": "python",
   "name": "python3"
  },
  "language_info": {
   "codemirror_mode": {
    "name": "ipython",
    "version": 3
   },
   "file_extension": ".py",
   "mimetype": "text/x-python",
   "name": "python",
   "nbconvert_exporter": "python",
   "pygments_lexer": "ipython3",
   "version": "3.12.7"
  }
 },
 "nbformat": 4,
 "nbformat_minor": 2
}
