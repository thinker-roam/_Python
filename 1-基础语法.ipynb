{
 "cells": [
  {
   "cell_type": "markdown",
   "metadata": {},
   "source": [
    "# 0-hello world"
   ]
  },
  {
   "cell_type": "code",
   "execution_count": null,
   "metadata": {},
   "outputs": [],
   "source": [
    "print('hello world')"
   ]
  },
  {
   "cell_type": "markdown",
   "metadata": {},
   "source": [
    "# 1-input-print"
   ]
  },
  {
   "cell_type": "code",
   "execution_count": null,
   "metadata": {},
   "outputs": [],
   "source": [
    "name = input('please enter your name:')\n",
    "print('name')"
   ]
  },
  {
   "cell_type": "markdown",
   "metadata": {},
   "source": [
    "# 2-print-换行"
   ]
  },
  {
   "cell_type": "code",
   "execution_count": null,
   "metadata": {},
   "outputs": [],
   "source": [
    "print('hello world')\n",
    "print() # print 无参数换行\n",
    "print('\\n is me!') # print \\n 换行"
   ]
  },
  {
   "cell_type": "markdown",
   "metadata": {},
   "source": [
    "# 3-注释"
   ]
  },
  {
   "cell_type": "code",
   "execution_count": null,
   "metadata": {},
   "outputs": [],
   "source": [
    "# 注释"
   ]
  },
  {
   "cell_type": "markdown",
   "metadata": {},
   "source": [
    "# 4-string"
   ]
  },
  {
   "cell_type": "code",
   "execution_count": null,
   "metadata": {},
   "outputs": [],
   "source": [
    "# 创建变量无需关键字修饰，输入一个名字即可创建\n",
    "string_variable = 'this is a string'\n",
    "\n",
    "print(\n",
    "    string_variable.upper() # 全大写\n",
    ")\n",
    "\n",
    "print(\n",
    "    string_variable.lower() # 全小写\n",
    ")\n",
    "\n",
    "print(\n",
    "    string_variable.capitalize() # 首字母大写\n",
    ")\n",
    "\n",
    "print(\n",
    "    string_variable.count('s') # 计算某个字符的个数\n",
    ")"
   ]
  },
  {
   "cell_type": "code",
   "execution_count": 1,
   "metadata": {},
   "outputs": [
    {
     "name": "stdout",
     "output_type": "stream",
     "text": [
      "helloChristopher Harrison\n"
     ]
    }
   ],
   "source": [
    "first_name = 'Christopher'\n",
    "last_name = \"Harrison\"\n",
    "print('hello' + first_name.capitalize() + ' ' + last_name.capitalize())\n"
   ]
  },
  {
   "cell_type": "code",
   "execution_count": 2,
   "metadata": {},
   "outputs": [
    {
     "name": "stdout",
     "output_type": "stream",
     "text": [
      "Hello1 2\n"
     ]
    }
   ],
   "source": [
    "first_name = input('What is your first name?')\n",
    "last_name = input('What is your last name?')\n",
    "print('Hello' + first_name.capitalize() + ' ' + last_name.capitalize())"
   ]
  },
  {
   "cell_type": "markdown",
   "metadata": {},
   "source": [
    "## 4-1-string 格式化字符串"
   ]
  },
  {
   "cell_type": "code",
   "execution_count": null,
   "metadata": {},
   "outputs": [
    {
     "name": "stdout",
     "output_type": "stream",
     "text": [
      "Hello, Christopher Harrison\n",
      "\n",
      "Hello, Christopher Harrison\n",
      "\n",
      "Hello, Christopher Harrison\n",
      "\n",
      "Hello, Christopher Harrison\n",
      "\n"
     ]
    }
   ],
   "source": [
    "first_name = 'Christopher'\n",
    "last_name = \"Harrison\"\n",
    "\n",
    "output_0 = 'Hello, ' + first_name + ' ' + last_name\n",
    "# Python 2 \n",
    "output_1 = 'Hello, {} {}'.format(first_name,last_name)\n",
    "output_2 = 'Hello, {0} {1}'.format(first_name,last_name)\n",
    "# Python 3\n",
    "output_3 = f'Hello, {first_name} {last_name}'\n",
    "\n",
    "print(output_0 + '\\n')\n",
    "print(output_1 + '\\n')\n",
    "print(output_2 + '\\n')\n",
    "print(output_3 + '\\n')"
   ]
  },
  {
   "cell_type": "markdown",
   "metadata": {},
   "source": [
    "# 5-Numbers"
   ]
  },
  {
   "cell_type": "markdown",
   "metadata": {},
   "source": [
    "## 5-1 基本数学运算"
   ]
  },
  {
   "cell_type": "code",
   "execution_count": null,
   "metadata": {},
   "outputs": [
    {
     "name": "stdout",
     "output_type": "stream",
     "text": [
      "8\n",
      "4\n",
      "12\n",
      "3.0\n",
      "36\n"
     ]
    }
   ],
   "source": [
    "first_num = 6\n",
    "second_num = 2\n",
    "\n",
    "# 加法\n",
    "print(first_num + second_num)\n",
    "# 减法\n",
    "print(first_num - second_num)\n",
    "# 乘法\n",
    "print(first_num * second_num)\n",
    "# 除法\n",
    "print(first_num / second_num)\n",
    "# 平方 指数运算\n",
    "print(first_num ** second_num)\n",
    "\n"
   ]
  },
  {
   "cell_type": "markdown",
   "metadata": {},
   "source": [
    "## 5-2 数据类型转换"
   ]
  },
  {
   "cell_type": "markdown",
   "metadata": {},
   "source": [
    "Python 中没有类似 JavaScript 的 隐式类型转换"
   ]
  },
  {
   "cell_type": "code",
   "execution_count": null,
   "metadata": {},
   "outputs": [
    {
     "ename": "TypeError",
     "evalue": "unsupported operand type(s) for +: 'int' and 'str'",
     "output_type": "error",
     "traceback": [
      "\u001b[1;31m---------------------------------------------------------------------------\u001b[0m",
      "\u001b[1;31mTypeError\u001b[0m                                 Traceback (most recent call last)",
      "Cell \u001b[1;32mIn[1], line 2\u001b[0m\n\u001b[0;32m      1\u001b[0m day_in_feb \u001b[38;5;241m=\u001b[39m \u001b[38;5;241m28\u001b[39m\n\u001b[1;32m----> 2\u001b[0m \u001b[38;5;28mprint\u001b[39m(day_in_feb \u001b[38;5;241m+\u001b[39m \u001b[38;5;124m'\u001b[39m\u001b[38;5;124mday in February\u001b[39m\u001b[38;5;124m'\u001b[39m)\n",
      "\u001b[1;31mTypeError\u001b[0m: unsupported operand type(s) for +: 'int' and 'str'"
     ]
    }
   ],
   "source": [
    "day_in_feb = 28\n",
    "# 这里没有 类似 JavaScript 的 隐式类型转换\n",
    "print(day_in_feb + 'day in February')"
   ]
  },
  {
   "cell_type": "markdown",
   "metadata": {},
   "source": [
    "### int 转 string "
   ]
  },
  {
   "cell_type": "code",
   "execution_count": 3,
   "metadata": {},
   "outputs": [
    {
     "name": "stdout",
     "output_type": "stream",
     "text": [
      "28 day in February\n"
     ]
    }
   ],
   "source": [
    "day_in_feb = 28\n",
    "\n",
    "print(str(day_in_feb) + ' ' + 'day in February')"
   ]
  },
  {
   "cell_type": "markdown",
   "metadata": {},
   "source": [
    "字符串数字 与 字符串数字 运算 不会产生隐式类型转换"
   ]
  },
  {
   "cell_type": "code",
   "execution_count": null,
   "metadata": {},
   "outputs": [
    {
     "name": "stdout",
     "output_type": "stream",
     "text": [
      "56\n",
      "11\n"
     ]
    }
   ],
   "source": [
    "first_num = '5'\n",
    "second_num = '6'\n",
    "print(first_num + second_num)\n",
    "print(int(first_num) + int(second_num))\n",
    "print(float(first_num) + float(second_num))"
   ]
  },
  {
   "cell_type": "code",
   "execution_count": 6,
   "metadata": {},
   "outputs": [
    {
     "ename": "TypeError",
     "evalue": "unsupported operand type(s) for ** or pow(): 'str' and 'str'",
     "output_type": "error",
     "traceback": [
      "\u001b[1;31m---------------------------------------------------------------------------\u001b[0m",
      "\u001b[1;31mTypeError\u001b[0m                                 Traceback (most recent call last)",
      "Cell \u001b[1;32mIn[6], line 4\u001b[0m\n\u001b[0;32m      1\u001b[0m first_num \u001b[38;5;241m=\u001b[39m \u001b[38;5;28minput\u001b[39m(\u001b[38;5;124m'\u001b[39m\u001b[38;5;124mPlease enter a number\u001b[39m\u001b[38;5;124m'\u001b[39m)\n\u001b[0;32m      2\u001b[0m second_num \u001b[38;5;241m=\u001b[39m \u001b[38;5;28minput\u001b[39m(\u001b[38;5;124m'\u001b[39m\u001b[38;5;124mPlease enter another number\u001b[39m\u001b[38;5;124m'\u001b[39m)\n\u001b[1;32m----> 4\u001b[0m \u001b[38;5;28mprint\u001b[39m(first_num \u001b[38;5;241m*\u001b[39m\u001b[38;5;241m*\u001b[39m  second_num)\n",
      "\u001b[1;31mTypeError\u001b[0m: unsupported operand type(s) for ** or pow(): 'str' and 'str'"
     ]
    }
   ],
   "source": [
    "first_num = input('Please enter a number')\n",
    "second_num = input('Please enter another number')\n",
    "\n",
    "print(first_num **  second_num)"
   ]
  },
  {
   "cell_type": "code",
   "execution_count": null,
   "metadata": {},
   "outputs": [
    {
     "name": "stdout",
     "output_type": "stream",
     "text": [
      "8.0\n"
     ]
    }
   ],
   "source": [
    "first_num = int(input('Please enter a number'))\n",
    "second_num = int(input('Please enter another number'))\n",
    "\n",
    "print(first_num **  second_num)"
   ]
  },
  {
   "cell_type": "code",
   "execution_count": 9,
   "metadata": {},
   "outputs": [
    {
     "name": "stdout",
     "output_type": "stream",
     "text": [
      "28 total days in February\n"
     ]
    }
   ],
   "source": [
    "days_in_February = 28\n",
    "\n",
    "print(str(days_in_February) + ' total days in February')"
   ]
  },
  {
   "cell_type": "markdown",
   "metadata": {},
   "source": [
    "# 6-日期"
   ]
  },
  {
   "cell_type": "code",
   "execution_count": 10,
   "metadata": {},
   "outputs": [
    {
     "name": "stdout",
     "output_type": "stream",
     "text": [
      "Today is:  2025-03-13 22:13:33.925366\n"
     ]
    }
   ],
   "source": [
    "from datetime import datetime\n",
    "\n",
    "current_date = datetime.now()\n",
    "\n",
    "print('Today is: ',str(current_date))"
   ]
  },
  {
   "cell_type": "code",
   "execution_count": null,
   "metadata": {},
   "outputs": [],
   "source": [
    "from datetime import datetime,timedelta\n",
    "\n",
    "today = datetime.now()\n",
    "\n",
    "one_day = timedelta(days=1)\n",
    "\n",
    "yesterday = today - one_day\n",
    "\n",
    "print('Yesterday was：' + str(yesterday))"
   ]
  },
  {
   "cell_type": "code",
   "execution_count": 11,
   "metadata": {},
   "outputs": [
    {
     "name": "stdout",
     "output_type": "stream",
     "text": [
      "Day: 13\n",
      "Month: 3\n",
      "Year: 2025\n"
     ]
    }
   ],
   "source": [
    "from  datetime import datetime\n",
    "\n",
    "current_date = datetime.now()\n",
    "\n",
    "print('Day: ' + str(current_date.day))\n",
    "print('Month: ' + str(current_date.month))\n",
    "print('Year: ' + str(current_date.year))\n"
   ]
  }
 ],
 "metadata": {
  "kernelspec": {
   "display_name": "base",
   "language": "python",
   "name": "python3"
  },
  "language_info": {
   "codemirror_mode": {
    "name": "ipython",
    "version": 3
   },
   "file_extension": ".py",
   "mimetype": "text/x-python",
   "name": "python",
   "nbconvert_exporter": "python",
   "pygments_lexer": "ipython3",
   "version": "3.12.7"
  }
 },
 "nbformat": 4,
 "nbformat_minor": 2
}
